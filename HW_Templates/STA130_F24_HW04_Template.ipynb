{
 "cells": [
  {
   "cell_type": "markdown",
   "id": "U4cKcxfF3r-P",
   "metadata": {
    "id": "U4cKcxfF3r-P"
   },
   "source": [
    "# Start your code here (Don't forget your name and studnet number)"
   ]
  },
  {
   "cell_type": "code",
   "execution_count": null,
   "id": "T55y_UOt3ryK",
   "metadata": {
    "id": "T55y_UOt3ryK"
   },
   "outputs": [],
   "source": []
  },
  {
   "cell_type": "markdown",
   "id": "23bbb320",
   "metadata": {
    "id": "23bbb320"
   },
   "source": [
    "# Graph Describing Data:"
   ]
  },
  {
   "cell_type": "code",
   "execution_count": null,
   "id": "3c0b293b",
   "metadata": {
    "id": "3c0b293b"
   },
   "outputs": [],
   "source": []
  },
  {
   "cell_type": "markdown",
   "id": "9554d5bb",
   "metadata": {
    "id": "9554d5bb"
   },
   "source": [
    "# Your method of quantitative analysis:"
   ]
  },
  {
   "cell_type": "code",
   "execution_count": null,
   "id": "521d667b",
   "metadata": {
    "id": "521d667b"
   },
   "outputs": [],
   "source": []
  },
  {
   "cell_type": "markdown",
   "id": "f9f8438c",
   "metadata": {
    "id": "f9f8438c"
   },
   "source": [
    "# Null hypothesis:"
   ]
  },
  {
   "cell_type": "code",
   "execution_count": null,
   "id": "ae52cfb3",
   "metadata": {
    "id": "ae52cfb3"
   },
   "outputs": [],
   "source": []
  },
  {
   "cell_type": "markdown",
   "id": "e45c2a55",
   "metadata": {
    "id": "e45c2a55"
   },
   "source": [
    "# Graph Analysing Data:"
   ]
  },
  {
   "cell_type": "code",
   "execution_count": null,
   "id": "797bcc80",
   "metadata": {
    "id": "797bcc80"
   },
   "outputs": [],
   "source": []
  },
  {
   "cell_type": "markdown",
   "id": "a20ee850",
   "metadata": {
    "id": "a20ee850"
   },
   "source": [
    "# Analyse graph and write conclusion for hypothesis (1 pragraph):"
   ]
  },
  {
   "cell_type": "code",
   "execution_count": null,
   "id": "9938a585",
   "metadata": {
    "id": "9938a585"
   },
   "outputs": [],
   "source": []
  }
 ],
 "metadata": {
  "colab": {
   "provenance": []
  },
  "kernelspec": {
   "display_name": "Python 3 (ipykernel)",
   "language": "python",
   "name": "python3"
  },
  "language_info": {
   "codemirror_mode": {
    "name": "ipython",
    "version": 3
   },
   "file_extension": ".py",
   "mimetype": "text/x-python",
   "name": "python",
   "nbconvert_exporter": "python",
   "pygments_lexer": "ipython3",
   "version": "3.11.4"
  }
 },
 "nbformat": 4,
 "nbformat_minor": 5
}
